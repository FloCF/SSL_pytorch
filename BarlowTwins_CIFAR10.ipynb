{
 "cells": [
  {
   "cell_type": "markdown",
   "id": "bd933ab8",
   "metadata": {},
   "source": [
    "# Trying BarlowTwins on CIFAR-10"
   ]
  },
  {
   "cell_type": "code",
   "execution_count": 1,
   "id": "1c5bf3b1",
   "metadata": {},
   "outputs": [
    {
     "name": "stdout",
     "output_type": "stream",
     "text": [
      "Files already downloaded and verified\n",
      "Files already downloaded and verified\n",
      "Files already downloaded and verified\n",
      "Program running on Tesla P100-PCIE-12GB\n"
     ]
    }
   ],
   "source": [
    "from os import makedirs\n",
    "\n",
    "import torch\n",
    "from torch.optim.lr_scheduler import CosineAnnealingLR\n",
    "\n",
    "from torchvision.models import resnet18\n",
    "\n",
    "from models import BarlowTwins\n",
    "from optimizer import LARS\n",
    "from trainer import SSL_Trainer\n",
    "from utils import SSL_CIFAR10\n",
    "\n",
    "# Define hyperparameters\n",
    "data_root = '/home/space/datasets/'\n",
    "#data_root = '/home/fcfschulz/Documents/workspace/data/Vision/'\n",
    "save_root = './results/barlow_twins/'\n",
    "\n",
    "dl_kwargs = {'batch_size': 512, 'shuffle': True, 'num_workers': 2}\n",
    "\n",
    "# Define data\n",
    "ssl_data = SSL_CIFAR10(data_root,'BYOL', dl_kwargs)\n",
    "\n",
    "train_params = {'save_root': save_root, 'num_epochs': 800, 'optimizer': LARS,\n",
    "                'scheduler': CosineAnnealingLR, 'warmup_epochs': 10, 'iter_scheduler':True,\n",
    "                'evaluate_at': [1,100,200,400,600], 'verbose':True}\n",
    "\n",
    "optim_params = {'lr':0.2 * dl_kwargs['batch_size']/256, 'weight_decay': 1.5e-6,\n",
    "                'exclude_bias_and_norm': True}\n",
    "\n",
    "scheduler_params = {'T_max': (train_params['num_epochs']-train_params['warmup_epochs'])*len(ssl_data.train_dl),\n",
    "                    'eta_min': 1e-3}\n",
    "\n",
    "eval_params  = {'lr':1e-2, 'num_epochs': 5, 'milestones': [30,40]}\n",
    "\n",
    "# Get device\n",
    "device = torch.device('cuda:0' if torch.cuda.is_available() else 'cpu')\n",
    "# Print Device Type\n",
    "if torch.cuda.is_available():\n",
    "    print(f\"Program running on {torch.cuda.get_device_name(device)}\")\n",
    "else:\n",
    "    print(\"Program running on CPU\")\n",
    "    \n",
    "# Create folder if it does not exists\n",
    "makedirs(save_root, exist_ok=True)"
   ]
  },
  {
   "cell_type": "markdown",
   "id": "0ed7fa78",
   "metadata": {},
   "source": [
    "# BarlowTwins"
   ]
  },
  {
   "cell_type": "code",
   "execution_count": null,
   "id": "04393c2c",
   "metadata": {},
   "outputs": [
    {
     "name": "stdout",
     "output_type": "stream",
     "text": [
      "Pretrained model available, use it?[y/n]: y\n",
      "Epoch: 17, Loss: 648.5309328688788, Time epoch: 70.1365442276001\n",
      "Epoch: 18, Loss: 638.0418782971569, Time epoch: 69.61742854118347\n",
      "Epoch: 19, Loss: 633.3371336632168, Time epoch: 69.57933115959167\n",
      "Epoch: 20, Loss: 621.7218137131524, Time epoch: 70.32259368896484\n",
      "Epoch: 21, Loss: 618.272109198816, Time epoch: 70.41536068916321\n",
      "Epoch: 22, Loss: 612.5374743274807, Time epoch: 70.00139546394348\n",
      "Epoch: 23, Loss: 611.9205171250806, Time epoch: 69.61311101913452\n",
      "Epoch: 24, Loss: 605.7155528904236, Time epoch: 69.81289267539978\n",
      "Epoch: 25, Loss: 602.1865284713273, Time epoch: 69.87919759750366\n",
      "Epoch: 26, Loss: 592.8337830219073, Time epoch: 69.83821249008179\n",
      "Epoch: 27, Loss: 591.414676626933, Time epoch: 69.79781031608582\n",
      "Epoch: 28, Loss: 587.5868523981153, Time epoch: 69.73955416679382\n",
      "Epoch: 29, Loss: 583.9519124768444, Time epoch: 69.47623229026794\n",
      "Epoch: 30, Loss: 579.3783311352288, Time epoch: 69.75653409957886\n",
      "Epoch: 31, Loss: 571.871519737637, Time epoch: 69.26207113265991\n",
      "Epoch: 32, Loss: 571.17876253423, Time epoch: 69.24671912193298\n",
      "Epoch: 33, Loss: 567.7849064463193, Time epoch: 69.59831070899963\n",
      "Epoch: 34, Loss: 563.380481837951, Time epoch: 69.3594810962677\n",
      "Epoch: 35, Loss: 559.6459759584408, Time epoch: 69.62145352363586\n",
      "Epoch: 36, Loss: 560.2999324208682, Time epoch: 69.81598711013794\n",
      "Epoch: 37, Loss: 556.4927645024565, Time epoch: 69.91803765296936\n",
      "Epoch: 38, Loss: 551.9979049839924, Time epoch: 69.7402834892273\n",
      "Epoch: 39, Loss: 548.7674774484536, Time epoch: 69.00716662406921\n",
      "Epoch: 40, Loss: 546.9194770105106, Time epoch: 69.52357649803162\n",
      "Epoch: 41, Loss: 541.2915328507571, Time epoch: 69.4579610824585\n",
      "Epoch: 42, Loss: 540.7348629666358, Time epoch: 69.29557728767395\n"
     ]
    }
   ],
   "source": [
    "# Define Model\n",
    "resnet = resnet18(zero_init_residual=True)\n",
    "\n",
    "barlow_twins = BarlowTwins(resnet, projector_hidden = (2048,2048,2048)).to(device)\n",
    "\n",
    "# Define Trainer\n",
    "cifar10_trainer = SSL_Trainer(barlow_twins, ssl_data, device)\n",
    "\n",
    "# Train\n",
    "cifar10_trainer.train(**train_params, optim_params=optim_params,\n",
    "                      scheduler_params=scheduler_params, eval_params=eval_params)\n",
    "\n",
    "# Evaluate\n",
    "cifar10_trainer.evaluate(eval_params)\n",
    "# print\n",
    "print(f'Accuracy after Training: KNN:{cifar10_trainer.eval_acc[\"knn\"][-1]},'\\\n",
    "      'Linear: {cifar10_trainer.eval_acc[\"lin\"][-1]}')"
   ]
  },
  {
   "cell_type": "code",
   "execution_count": null,
   "id": "6d43ed0e",
   "metadata": {},
   "outputs": [],
   "source": []
  },
  {
   "cell_type": "code",
   "execution_count": null,
   "id": "7741c57a",
   "metadata": {},
   "outputs": [],
   "source": []
  },
  {
   "cell_type": "code",
   "execution_count": null,
   "id": "30d3ef17",
   "metadata": {},
   "outputs": [],
   "source": []
  },
  {
   "cell_type": "code",
   "execution_count": null,
   "id": "22d4ba4d",
   "metadata": {},
   "outputs": [],
   "source": []
  }
 ],
 "metadata": {
  "kernelspec": {
   "display_name": "Python (pg_high)",
   "language": "python",
   "name": "pg_high"
  },
  "language_info": {
   "codemirror_mode": {
    "name": "ipython",
    "version": 3
   },
   "file_extension": ".py",
   "mimetype": "text/x-python",
   "name": "python",
   "nbconvert_exporter": "python",
   "pygments_lexer": "ipython3",
   "version": "3.8.12"
  }
 },
 "nbformat": 4,
 "nbformat_minor": 5
}
