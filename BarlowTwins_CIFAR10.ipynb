{
 "cells": [
  {
   "cell_type": "markdown",
   "id": "bd933ab8",
   "metadata": {},
   "source": [
    "# [BarlowTwins](https://arxiv.org/abs/2103.03230) on CIFAR-10"
   ]
  },
  {
   "cell_type": "code",
   "execution_count": 1,
   "id": "1c5bf3b1",
   "metadata": {},
   "outputs": [
    {
     "name": "stdout",
     "output_type": "stream",
     "text": [
      "Files already downloaded and verified\n",
      "Files already downloaded and verified\n",
      "Files already downloaded and verified\n",
      "Program running on NVIDIA A100-PCIE-40GB\n"
     ]
    }
   ],
   "source": [
    "from os import makedirs\n",
    "\n",
    "import torch\n",
    "from torch.optim import SGD\n",
    "from torch.optim.lr_scheduler import CosineAnnealingLR\n",
    "\n",
    "from torchvision.models import resnet18\n",
    "\n",
    "from models import BarlowTwins\n",
    "#from optimizer import LARS\n",
    "from trainer import SSL_Trainer\n",
    "from utils import SSL_CIFAR10\n",
    "\n",
    "# Define hyperparameters\n",
    "data_root = some root so data folder\n",
    "save_root = './results/barlow_twins/'\n",
    "\n",
    "dl_kwargs = {'batch_size': 512, 'shuffle': True, 'num_workers': 2}\n",
    "\n",
    "# Define data\n",
    "ssl_data = SSL_CIFAR10(data_root,'BYOL', dl_kwargs)\n",
    "\n",
    "# general training params\n",
    "train_params = {'save_root': save_root, 'num_epochs': 800, 'optimizer': SGD,\n",
    "                'scheduler': CosineAnnealingLR, 'warmup_epochs': 10, 'iter_scheduler':True,\n",
    "                'evaluate_at': [100,200,400,600], 'verbose':True}\n",
    "\n",
    "# params of optimizer\n",
    "## In Original Paper for Imagenet when using LARS Optimizer\n",
    "#optim_params = {'lr':0.2 * dl_kwargs['batch_size']/256, 'weight_decay': 1.5e-6,\n",
    "#                'exclude_bias_and_norm': True}\n",
    "\n",
    "# from: https://github.com/IgorSusmelj/barlowtwins/blob/main/main.py\n",
    "optim_params = {'lr': 1e-3, 'momentum': 0.9, 'weight_decay': 5e-4} \n",
    "\n",
    "# params of scheduler\n",
    "scheduler_params = {'T_max': (train_params['num_epochs']-train_params['warmup_epochs'])*len(ssl_data.train_dl)}\n",
    "                    # 'eta_min': 1e-3} in orginal implementation\n",
    "\n",
    "# Set parameters for fitting linear protocoler\n",
    "eval_params  = {'lr':1e-2, 'num_epochs': 25, 'milestones': [12,20]}\n",
    "\n",
    "# Get device\n",
    "device = torch.device('cuda:0' if torch.cuda.is_available() else 'cpu')\n",
    "# Print Device Type\n",
    "if torch.cuda.is_available():\n",
    "    print(f\"Program running on {torch.cuda.get_device_name(device)}\")\n",
    "else:\n",
    "    print(\"Program running on CPU\")\n",
    "    \n",
    "# Create folder if it does not exists\n",
    "makedirs(save_root, exist_ok=True)"
   ]
  },
  {
   "cell_type": "markdown",
   "id": "0ed7fa78",
   "metadata": {},
   "source": [
    "# BarlowTwins"
   ]
  },
  {
   "cell_type": "code",
   "execution_count": null,
   "id": "04393c2c",
   "metadata": {},
   "outputs": [
    {
     "name": "stderr",
     "output_type": "stream",
     "text": [
      "/home/fcfschulz/miniconda3/envs/pg_high/lib/python3.8/site-packages/torch/nn/functional.py:718: UserWarning: Named tensors and all their associated APIs are an experimental feature and subject to change. Please do not use them for anything important until they are released as stable. (Triggered internally at  /pytorch/c10/core/TensorImpl.h:1156.)\n",
      "  return torch.max_pool2d(input, kernel_size, stride, padding, dilation, ceil_mode)\n"
     ]
    },
    {
     "name": "stdout",
     "output_type": "stream",
     "text": [
      "Epoch: 0, Loss: 1430.2566043814434, Time epoch: 194.42377424240112\n",
      "Epoch: 1, Loss: 1263.7786638712146, Time epoch: 204.28367161750793\n",
      "Epoch: 2, Loss: 1100.4600811201271, Time epoch: 205.5447497367859\n",
      "Epoch: 3, Loss: 994.5241560788498, Time epoch: 204.94365859031677\n",
      "Epoch: 4, Loss: 919.3228734596488, Time epoch: 203.45735049247742\n",
      "Epoch: 5, Loss: 847.7131926546392, Time epoch: 204.54951643943787\n",
      "Epoch: 6, Loss: 807.5395086229462, Time epoch: 203.0283501148224\n",
      "Epoch: 7, Loss: 766.2004772068299, Time epoch: 203.8757302761078\n",
      "Epoch: 8, Loss: 735.5425635269007, Time epoch: 210.45079040527344\n",
      "Epoch: 9, Loss: 720.8987256866141, Time epoch: 207.80512237548828\n",
      "Epoch: 10, Loss: 686.5789776045023, Time epoch: 212.7353618144989\n",
      "Epoch: 11, Loss: 661.3757097696521, Time epoch: 211.97152161598206\n"
     ]
    }
   ],
   "source": [
    "# Define Model\n",
    "resnet = resnet18(zero_init_residual=True)\n",
    "barlow_twins = BarlowTwins(resnet, projector_hidden = (2048,2048,2048))\n",
    "\n",
    "# Define Trainer\n",
    "cifar10_trainer = SSL_Trainer(barlow_twins, ssl_data, device)\n",
    "\n",
    "# Train\n",
    "cifar10_trainer.train(**train_params, optim_params=optim_params,\n",
    "                      scheduler_params=scheduler_params, eval_params=eval_params)"
   ]
  },
  {
   "cell_type": "code",
   "execution_count": null,
   "id": "6d43ed0e",
   "metadata": {},
   "outputs": [],
   "source": []
  },
  {
   "cell_type": "code",
   "execution_count": null,
   "id": "7741c57a",
   "metadata": {},
   "outputs": [],
   "source": []
  },
  {
   "cell_type": "code",
   "execution_count": null,
   "id": "30d3ef17",
   "metadata": {},
   "outputs": [],
   "source": []
  },
  {
   "cell_type": "code",
   "execution_count": null,
   "id": "22d4ba4d",
   "metadata": {},
   "outputs": [],
   "source": []
  }
 ],
 "metadata": {
  "kernelspec": {
   "display_name": "Python 3",
   "language": "python",
   "name": "python3"
  },
  "language_info": {
   "codemirror_mode": {
    "name": "ipython",
    "version": 3
   },
   "file_extension": ".py",
   "mimetype": "text/x-python",
   "name": "python",
   "nbconvert_exporter": "python",
   "pygments_lexer": "ipython3",
   "version": "3.8.5"
  }
 },
 "nbformat": 4,
 "nbformat_minor": 5
}
