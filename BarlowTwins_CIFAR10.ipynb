{
 "cells": [
  {
   "cell_type": "markdown",
   "id": "bd933ab8",
   "metadata": {},
   "source": [
    "# Trying BarlowTwins on CIFAR-10"
   ]
  },
  {
   "cell_type": "code",
   "execution_count": 1,
   "id": "1c5bf3b1",
   "metadata": {},
   "outputs": [
    {
     "name": "stdout",
     "output_type": "stream",
     "text": [
      "Files already downloaded and verified\n",
      "Files already downloaded and verified\n",
      "Files already downloaded and verified\n",
      "Program running on CPU\n"
     ]
    }
   ],
   "source": [
    "from os import makedirs\n",
    "\n",
    "import torch\n",
    "from torch.optim import SGD\n",
    "from torch.optim.lr_scheduler import CosineAnnealingLR\n",
    "\n",
    "from torchvision.models import resnet18\n",
    "\n",
    "from models import BarlowTwins\n",
    "#from optimizer import LARS\n",
    "from trainer import SSL_Trainer\n",
    "from utils import SSL_CIFAR10\n",
    "\n",
    "# Define hyperparameters\n",
    "#data_root = '/home/space/datasets/'\n",
    "data_root = '/home/fcfschulz/Documents/workspace/data/Vision/'\n",
    "save_root = './results/barlow_twins/'\n",
    "\n",
    "dl_kwargs = {'batch_size': 512, 'shuffle': True, 'num_workers': 2}\n",
    "\n",
    "# Define data\n",
    "ssl_data = SSL_CIFAR10(data_root,'BYOL', dl_kwargs)\n",
    "\n",
    "train_params = {'save_root': save_root, 'num_epochs': 10, 'optimizer': SGD,\n",
    "                'scheduler': CosineAnnealingLR, 'warmup_epochs': 5, 'iter_scheduler':True,\n",
    "                'evaluate_at': [100,200,400,600], 'verbose':True}\n",
    "\n",
    "## In Original Paper for Imagenet when using LARS Optimizer\n",
    "#optim_params = {'lr':0.2 * dl_kwargs['batch_size']/256, 'weight_decay': 1.5e-6,\n",
    "#                'exclude_bias_and_norm': True}\n",
    "optim_params = {'lr': 1e-3, 'momentum': 0.9, 'weight_decay': 5e-4} # from here: https://github.com/IgorSusmelj/barlowtwins/blob/main/main.py\n",
    "\n",
    "scheduler_params = {'T_max': (train_params['num_epochs']-train_params['warmup_epochs'])*len(ssl_data.train_dl)}\n",
    "                    # 'eta_min': 1e-3} in orginal implementation\n",
    "\n",
    "eval_params  = {'lr':1e-2, 'num_epochs': 25, 'milestones': [12,20]}\n",
    "\n",
    "# Get device\n",
    "device = torch.device('cuda:0' if torch.cuda.is_available() else 'cpu')\n",
    "# Print Device Type\n",
    "if torch.cuda.is_available():\n",
    "    print(f\"Program running on {torch.cuda.get_device_name(device)}\")\n",
    "else:\n",
    "    print(\"Program running on CPU\")\n",
    "    \n",
    "# Create folder if it does not exists\n",
    "makedirs(save_root, exist_ok=True)"
   ]
  },
  {
   "cell_type": "markdown",
   "id": "0ed7fa78",
   "metadata": {},
   "source": [
    "# BarlowTwins"
   ]
  },
  {
   "cell_type": "code",
   "execution_count": 2,
   "id": "04393c2c",
   "metadata": {},
   "outputs": [
    {
     "name": "stdout",
     "output_type": "stream",
     "text": [
      "\n",
      "scheduler = warmup\n",
      "epoch 0, Time epoch: 0.001992464065551758\n",
      "epoch 1, Time epoch: 0.0010230541229248047\n",
      "epoch 2, Time epoch: 0.0011229515075683594\n",
      "epoch 3, Time epoch: 0.0023794174194335938\n",
      "epoch 4, Time epoch: 0.0011363029479980469\n",
      "epoch 5, Time epoch: 0.0011858940124511719\n",
      "epoch 6, Time epoch: 0.0011179447174072266\n",
      "epoch 7, Time epoch: 0.0011334419250488281\n",
      "epoch 8, Time epoch: 0.0011103153228759766\n",
      "epoch 9, Time epoch: 0.0011439323425292969\n",
      "epoch 10, Time epoch: 0.0012314319610595703\n",
      "epoch 11, Time epoch: 0.0010972023010253906\n",
      "epoch 12, Time epoch: 0.0011463165283203125\n",
      "epoch 13, Time epoch: 0.0010890960693359375\n",
      "epoch 14, Time epoch: 0.0010807514190673828\n",
      "epoch 15, Time epoch: 0.001096487045288086\n",
      "epoch 16, Time epoch: 0.026607275009155273\n",
      "epoch 17, Time epoch: 0.0012218952178955078\n",
      "epoch 18, Time epoch: 0.001123666763305664\n",
      "epoch 19, Time epoch: 0.0010824203491210938\n",
      "epoch 20, Time epoch: 0.001092672348022461\n",
      "epoch 21, Time epoch: 0.0011365413665771484\n",
      "epoch 22, Time epoch: 0.0010857582092285156\n",
      "epoch 23, Time epoch: 0.0010821819305419922\n",
      "epoch 24, Time epoch: 0.001157999038696289\n",
      "epoch 25, Time epoch: 0.0011374950408935547\n",
      "epoch 26, Time epoch: 0.001119375228881836\n",
      "epoch 27, Time epoch: 0.0010907649993896484\n",
      "epoch 28, Time epoch: 0.0011487007141113281\n",
      "epoch 29, Time epoch: 0.0010919570922851562\n",
      "epoch 30, Time epoch: 0.0010945796966552734\n",
      "epoch 31, Time epoch: 0.0013480186462402344\n",
      "epoch 32, Time epoch: 0.001102447509765625\n",
      "epoch 33, Time epoch: 0.0010902881622314453\n",
      "epoch 34, Time epoch: 0.0010881423950195312\n",
      "epoch 35, Time epoch: 0.0011103153228759766\n",
      "epoch 36, Time epoch: 0.0010952949523925781\n",
      "epoch 37, Time epoch: 0.0010876655578613281\n",
      "epoch 38, Time epoch: 0.0011584758758544922\n",
      "epoch 39, Time epoch: 0.0011048316955566406\n",
      "epoch 40, Time epoch: 0.001116037368774414\n",
      "epoch 41, Time epoch: 0.0010998249053955078\n",
      "epoch 42, Time epoch: 0.0011293888092041016\n",
      "epoch 43, Time epoch: 0.0010952949523925781\n",
      "epoch 44, Time epoch: 0.0010929107666015625\n",
      "epoch 45, Time epoch: 0.0010864734649658203\n",
      "epoch 46, Time epoch: 0.0012345314025878906\n",
      "epoch 47, Time epoch: 0.0010890960693359375\n",
      "epoch 48, Time epoch: 0.0010895729064941406\n",
      "epoch 49, Time epoch: 0.0011370182037353516\n"
     ]
    },
    {
     "name": "stderr",
     "output_type": "stream",
     "text": [
      "/home/fcfschulz/Programs/miniconda3/envs/playground/lib/python3.8/site-packages/torch/optim/lr_scheduler.py:129: UserWarning: Detected call of `lr_scheduler.step()` before `optimizer.step()`. In PyTorch 1.1.0 and later, you should call them in the opposite order: `optimizer.step()` before `lr_scheduler.step()`.  Failure to do this will result in PyTorch skipping the first value of the learning rate schedule. See more details at https://pytorch.org/docs/stable/optim.html#how-to-adjust-learning-rate\n",
      "  warnings.warn(\"Detected call of `lr_scheduler.step()` before `optimizer.step()`. \"\n"
     ]
    }
   ],
   "source": [
    "# Define Model\n",
    "resnet = resnet18(zero_init_residual=True)\n",
    "\n",
    "barlow_twins = BarlowTwins(resnet, projector_hidden = (2048,2048,2048)).to(device)\n",
    "\n",
    "# Define Trainer\n",
    "cifar10_trainer = SSL_Trainer(barlow_twins, ssl_data, device)\n",
    "\n",
    "# Train\n",
    "cifar10_trainer.train(**train_params, optim_params=optim_params,\n",
    "                      scheduler_params=scheduler_params, eval_params=eval_params)"
   ]
  },
  {
   "cell_type": "code",
   "execution_count": 3,
   "id": "6d43ed0e",
   "metadata": {},
   "outputs": [
    {
     "data": {
      "image/png": "[encoded data removed]",
      "text/plain": [
       "<Figure size 432x288 with 1 Axes>"
      ]
     },
     "metadata": {
      "needs_background": "light"
     },
     "output_type": "display_data"
    }
   ],
   "source": [
    "import matplotlib.pyplot as plt\n",
    "\n",
    "plt.plot(cifar10_trainer._hist_lr);"
   ]
  },
  {
   "cell_type": "code",
   "execution_count": null,
   "id": "7741c57a",
   "metadata": {},
   "outputs": [],
   "source": []
  },
  {
   "cell_type": "code",
   "execution_count": null,
   "id": "30d3ef17",
   "metadata": {},
   "outputs": [],
   "source": []
  },
  {
   "cell_type": "code",
   "execution_count": null,
   "id": "22d4ba4d",
   "metadata": {},
   "outputs": [],
   "source": []
  }
 ],
 "metadata": {
  "kernelspec": {
   "display_name": "Python (Playground)",
   "language": "python",
   "name": "playground"
  },
  "language_info": {
   "codemirror_mode": {
    "name": "ipython",
    "version": 3
   },
   "file_extension": ".py",
   "mimetype": "text/x-python",
   "name": "python",
   "nbconvert_exporter": "python",
   "pygments_lexer": "ipython3",
   "version": "3.8.10"
  }
 },
 "nbformat": 4,
 "nbformat_minor": 5
}
