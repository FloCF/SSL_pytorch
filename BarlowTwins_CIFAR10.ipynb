{
 "cells": [
  {
   "cell_type": "markdown",
   "id": "bd933ab8",
   "metadata": {},
   "source": [
    "# Trying BarlowTwins on CIFAR-10"
   ]
  },
  {
   "cell_type": "code",
   "execution_count": 1,
   "id": "1c5bf3b1",
   "metadata": {},
   "outputs": [
    {
     "name": "stdout",
     "output_type": "stream",
     "text": [
      "Program running on Tesla P100-PCIE-12GB\n"
     ]
    }
   ],
   "source": [
    "from os import makedirs\n",
    "\n",
    "import torch\n",
    "from torchvision.models import resnet18\n",
    "\n",
    "from models import BarlowTwins\n",
    "from utils import SSL_CIFAR10\n",
    "from trainer import cifar10_trainer\n",
    "\n",
    "device = torch.device('cuda:0' if torch.cuda.is_available() else 'cpu')\n",
    "# Print Device Type\n",
    "if torch.cuda.is_available():\n",
    "    print(f\"Program running on {torch.cuda.get_device_name(device)}\")\n",
    "else:\n",
    "    print(\"Program running on CPU\")\n",
    "    \n",
    "# Define hyperparameters\n",
    "data_root = '/home/space/datasets/'\n",
    "save_root = './results/barlow_twins/'\n",
    "makedirs(save_root, exist_ok=True)\n",
    "\n",
    "dl_kwargs = {'batch_size': 512, 'shuffle': True, 'num_workers': 2}\n",
    "\n",
    "optim_params = {'lr':0.2 * dl_kwargs['batch_size']/256,\n",
    "                'weight_decay': 1.5e-6,\n",
    "                'exclude_bias_and_norm':True}\n",
    "train_params = {'num_epochs': 800, 'warmup_epchs': 10, 'eta_min':1e-3, 'start_epoch':0}\n",
    "eval_params  = {'evaluate_at': [100,200,400,600], 'lr':1e-2, 'num_epochs': 50, 'milestones': [30,40]}"
   ]
  },
  {
   "cell_type": "markdown",
   "id": "0ed7fa78",
   "metadata": {},
   "source": [
    "# BarlowTwins"
   ]
  },
  {
   "cell_type": "code",
   "execution_count": null,
   "id": "04393c2c",
   "metadata": {},
   "outputs": [
    {
     "name": "stdout",
     "output_type": "stream",
     "text": [
      "Files already downloaded and verified\n",
      "Files already downloaded and verified\n",
      "Files already downloaded and verified\n",
      "Pretrained model available, use it?[y/n]: n\n"
     ]
    },
    {
     "name": "stderr",
     "output_type": "stream",
     "text": [
      "/home/fcfschulz/miniconda3/envs/pg_high/lib/python3.8/site-packages/torch/nn/functional.py:718: UserWarning: Named tensors and all their associated APIs are an experimental feature and subject to change. Please do not use them for anything important until they are released as stable. (Triggered internally at  /pytorch/c10/core/TensorImpl.h:1156.)\n",
      "  return torch.max_pool2d(input, kernel_size, stride, padding, dilation, ceil_mode)\n"
     ]
    },
    {
     "name": "stdout",
     "output_type": "stream",
     "text": [
      "Epoch: 0, Loss: 1336.685903018283, Time epoch: 68.75380325317383\n",
      "Epoch: 1, Loss: 1111.0566494341979, Time epoch: 68.52011156082153\n",
      "Epoch: 2, Loss: 1041.6986209830059, Time epoch: 69.0090320110321\n",
      "Epoch: 3, Loss: 999.1219041961984, Time epoch: 68.926194190979\n",
      "Epoch: 4, Loss: 952.2877625140948, Time epoch: 69.13982725143433\n",
      "Epoch: 5, Loss: 920.8228929657297, Time epoch: 68.73075151443481\n",
      "Epoch: 6, Loss: 891.1156270135309, Time epoch: 69.18457841873169\n",
      "Epoch: 7, Loss: 858.2364137000644, Time epoch: 68.72125816345215\n",
      "Epoch: 8, Loss: 831.5743250896021, Time epoch: 68.97410011291504\n",
      "Epoch: 9, Loss: 811.6565520296392, Time epoch: 68.74092316627502\n",
      "Epoch: 10, Loss: 791.2377243828528, Time epoch: 68.36446738243103\n",
      "Epoch: 11, Loss: 772.7735142658667, Time epoch: 68.90442776679993\n",
      "Epoch: 12, Loss: 755.084187615778, Time epoch: 68.60586786270142\n",
      "Epoch: 13, Loss: 740.379050343307, Time epoch: 68.72429847717285\n",
      "Epoch: 14, Loss: 723.5792582403753, Time epoch: 68.73918724060059\n",
      "Epoch: 15, Loss: 715.0313645195715, Time epoch: 69.09469985961914\n",
      "Epoch: 16, Loss: 703.9706464944427, Time epoch: 68.770761013031\n",
      "Epoch: 17, Loss: 691.3357644621859, Time epoch: 68.6898741722107\n",
      "Epoch: 18, Loss: 681.8968103153189, Time epoch: 68.86195421218872\n",
      "Epoch: 19, Loss: 672.6942056872181, Time epoch: 68.53500461578369\n",
      "Epoch: 20, Loss: 667.474350132893, Time epoch: 68.64865183830261\n",
      "Epoch: 21, Loss: 656.0423672076353, Time epoch: 68.35903334617615\n",
      "Epoch: 22, Loss: 651.2477706437259, Time epoch: 68.86092185974121\n",
      "Epoch: 23, Loss: 642.9295962618799, Time epoch: 68.44477200508118\n",
      "Epoch: 24, Loss: 636.0326330440561, Time epoch: 70.90570259094238\n",
      "Epoch: 25, Loss: 630.7428387514095, Time epoch: 68.69844460487366\n",
      "Epoch: 26, Loss: 626.0608036001933, Time epoch: 72.89674210548401\n",
      "Epoch: 27, Loss: 619.2066228807587, Time epoch: 69.75441813468933\n",
      "Epoch: 28, Loss: 609.6373215508215, Time epoch: 70.3001036643982\n",
      "Epoch: 29, Loss: 611.8753423002578, Time epoch: 68.97837281227112\n",
      "Epoch: 30, Loss: 604.6027076957153, Time epoch: 68.88960695266724\n",
      "Epoch: 31, Loss: 599.888327687057, Time epoch: 69.00567889213562\n",
      "Epoch: 32, Loss: 601.7235390574662, Time epoch: 69.38826704025269\n",
      "Epoch: 33, Loss: 589.055841504913, Time epoch: 72.91895961761475\n",
      "Epoch: 34, Loss: 588.4607650914143, Time epoch: 74.10379958152771\n",
      "Epoch: 35, Loss: 585.9773257540674, Time epoch: 73.0620551109314\n",
      "Epoch: 36, Loss: 585.8723314422922, Time epoch: 77.25380825996399\n"
     ]
    }
   ],
   "source": [
    "# Define data\n",
    "byol_cifar10 = SSL_CIFAR10(data_root,'BYOL', dl_kwargs)\n",
    "\n",
    "# Define Model\n",
    "resnet = resnet18(zero_init_residual=True)\n",
    "repre_dim = resnet.fc.in_features\n",
    "\n",
    "barlow_twins = BarlowTwins(resnet,\n",
    "                           projector_hidden = (2048,2048,2048)).to(device)\n",
    "\n",
    "# Train\n",
    "cifar10_trainer(save_root, barlow_twins, byol_cifar10,\n",
    "                optim_params, train_params, eval_params)"
   ]
  },
  {
   "cell_type": "code",
   "execution_count": null,
   "id": "6d43ed0e",
   "metadata": {},
   "outputs": [],
   "source": []
  },
  {
   "cell_type": "code",
   "execution_count": null,
   "id": "7741c57a",
   "metadata": {},
   "outputs": [],
   "source": []
  },
  {
   "cell_type": "code",
   "execution_count": null,
   "id": "30d3ef17",
   "metadata": {},
   "outputs": [],
   "source": []
  },
  {
   "cell_type": "code",
   "execution_count": null,
   "id": "22d4ba4d",
   "metadata": {},
   "outputs": [],
   "source": []
  }
 ],
 "metadata": {
  "kernelspec": {
   "display_name": "Python (pg_high)",
   "language": "python",
   "name": "pg_high"
  },
  "language_info": {
   "codemirror_mode": {
    "name": "ipython",
    "version": 3
   },
   "file_extension": ".py",
   "mimetype": "text/x-python",
   "name": "python",
   "nbconvert_exporter": "python",
   "pygments_lexer": "ipython3",
   "version": "3.8.12"
  }
 },
 "nbformat": 4,
 "nbformat_minor": 5
}
