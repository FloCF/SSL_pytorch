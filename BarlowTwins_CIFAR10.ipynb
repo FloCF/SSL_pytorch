{
 "cells": [
  {
   "cell_type": "markdown",
   "id": "bd933ab8",
   "metadata": {},
   "source": [
    "# Trying BarlowTwins on CIFAR-10"
   ]
  },
  {
   "cell_type": "code",
   "execution_count": null,
   "id": "1c5bf3b1",
   "metadata": {},
   "outputs": [],
   "source": [
    "from os import makedirs\n",
    "\n",
    "import torch\n",
    "from torchvision.models import resnet18\n",
    "\n",
    "from models import BarlowTwins\n",
    "from utils import SSL_CIFAR10\n",
    "from trainer import cifar10_trainer\n",
    "\n",
    "device = torch.device('cuda:0' if torch.cuda.is_available() else 'cpu')\n",
    "# Print Device Type\n",
    "if torch.cuda.is_available():\n",
    "    print(f\"Program running on {torch.cuda.get_device_name(device)}\")\n",
    "else:\n",
    "    print(\"Program running on CPU\")\n",
    "    \n",
    "# Define hyperparameters\n",
    "data_root = '/home/space/datasets/'\n",
    "save_root = './results/barlow_twins/'\n",
    "makedirs(save_root, exist_ok=True)\n",
    "\n",
    "dl_kwargs = {'batch_size': 512, 'shuffle': True, 'num_workers': 2}\n",
    "\n",
    "optim_params = {'lr':0.2 * dl_kwargs['batch_size']/256,\n",
    "                'weight_decay': 1.5e-6,\n",
    "                'exclude_bias_and_norm':True}\n",
    "train_params = {'num_epochs': 800, 'warmup_epchs': 10, 'eta_min':1e-3, 'start_epoch':0}\n",
    "eval_params  = {'evaluate_at': [100,200,400,600], 'lr':1e-2, 'num_epochs': 50, 'milestones': [30,40]}"
   ]
  },
  {
   "cell_type": "markdown",
   "id": "0ed7fa78",
   "metadata": {},
   "source": [
    "# BarlowTwins"
   ]
  },
  {
   "cell_type": "code",
   "execution_count": null,
   "id": "04393c2c",
   "metadata": {},
   "outputs": [],
   "source": [
    "# Define data\n",
    "byol_cifar10 = SSL_CIFAR10(data_root,'BYOL', dl_kwargs)\n",
    "\n",
    "# Define Model\n",
    "resnet = resnet18(zero_init_residual=True)\n",
    "repre_dim = resnet.fc.in_features\n",
    "\n",
    "barlow_twins = BarlowTwins(resnet,\n",
    "                           projector_hidden = (2048,2048,2048)).to(device)\n",
    "\n",
    "# Train\n",
    "cifar10_trainer(save_root, barlow_twins, byol_cifar10,\n",
    "                optim_params, train_params, eval_params)"
   ]
  },
  {
   "cell_type": "code",
   "execution_count": null,
   "id": "6d43ed0e",
   "metadata": {},
   "outputs": [],
   "source": []
  },
  {
   "cell_type": "code",
   "execution_count": null,
   "id": "7741c57a",
   "metadata": {},
   "outputs": [],
   "source": []
  },
  {
   "cell_type": "code",
   "execution_count": null,
   "id": "30d3ef17",
   "metadata": {},
   "outputs": [],
   "source": []
  },
  {
   "cell_type": "code",
   "execution_count": null,
   "id": "22d4ba4d",
   "metadata": {},
   "outputs": [],
   "source": []
  }
 ],
 "metadata": {
  "kernelspec": {
   "display_name": "Python (pg_high)",
   "language": "python",
   "name": "pg_high"
  },
  "language_info": {
   "codemirror_mode": {
    "name": "ipython",
    "version": 3
   },
   "file_extension": ".py",
   "mimetype": "text/x-python",
   "name": "python",
   "nbconvert_exporter": "python",
   "pygments_lexer": "ipython3",
   "version": "3.8.12"
  }
 },
 "nbformat": 4,
 "nbformat_minor": 5
}
