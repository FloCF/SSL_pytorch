{
 "cells": [
  {
   "cell_type": "markdown",
   "id": "bd933ab8",
   "metadata": {},
   "source": [
    "# Trying BarlowTwins on CIFAR-10"
   ]
  },
  {
   "cell_type": "code",
   "execution_count": 8,
   "id": "7834027c",
   "metadata": {},
   "outputs": [
    {
     "name": "stdout",
     "output_type": "stream",
     "text": [
      "Updating 9e2ece3..af9f4c2\r\n",
      "error: Your local changes to the following files would be overwritten by merge:\r\n",
      "\tBarlowTwins_CIFAR10.ipynb\r\n",
      "Please commit your changes or stash them before you merge.\r\n",
      "Aborting\r\n"
     ]
    }
   ],
   "source": [
    "! git pull"
   ]
  },
  {
   "cell_type": "code",
   "execution_count": 1,
   "id": "1c5bf3b1",
   "metadata": {},
   "outputs": [
    {
     "name": "stdout",
     "output_type": "stream",
     "text": [
      "Files already downloaded and verified\n",
      "Files already downloaded and verified\n",
      "Files already downloaded and verified\n",
      "Program running on Tesla P100-PCIE-12GB\n"
     ]
    }
   ],
   "source": [
    "from os import makedirs\n",
    "\n",
    "import torch\n",
    "from torch.optim import SGD\n",
    "from torch.optim.lr_scheduler import CosineAnnealingLR\n",
    "\n",
    "from torchvision.models import resnet18\n",
    "\n",
    "from models import BarlowTwins\n",
    "#from optimizer import LARS\n",
    "from trainer import SSL_Trainer\n",
    "from utils import SSL_CIFAR10\n",
    "\n",
    "# Define hyperparameters\n",
    "data_root = '/home/space/datasets/'\n",
    "#data_root = '/home/fcfschulz/Documents/workspace/data/Vision/'\n",
    "save_root = './results/barlow_twins/'\n",
    "\n",
    "dl_kwargs = {'batch_size': 512, 'shuffle': True, 'num_workers': 2}\n",
    "\n",
    "# Define data\n",
    "ssl_data = SSL_CIFAR10(data_root,'BYOL', dl_kwargs)\n",
    "\n",
    "train_params = {'save_root': save_root, 'num_epochs': 10, 'optimizer': SGD,\n",
    "                'scheduler': CosineAnnealingLR, 'warmup_epochs': 5, 'iter_scheduler':True,\n",
    "                'evaluate_at': [100,200,400,600], 'verbose':True}\n",
    "\n",
    "## In Original Paper for Imagenet when using LARS Optimizer\n",
    "#optim_params = {'lr':0.2 * dl_kwargs['batch_size']/256, 'weight_decay': 1.5e-6,\n",
    "#                'exclude_bias_and_norm': True}\n",
    "optim_params = {'lr': 1e-3, 'momentum': 0.9, 'weight_decay': 5e-4} # from here: https://github.com/IgorSusmelj/barlowtwins/blob/main/main.py\n",
    "\n",
    "scheduler_params = {'T_max': (train_params['num_epochs']-train_params['warmup_epochs'])*len(ssl_data.train_dl)}\n",
    "                    # 'eta_min': 1e-3} in orginal implementation\n",
    "\n",
    "eval_params  = {'lr':1e-2, 'num_epochs': 25, 'milestones': [12,20]}\n",
    "\n",
    "# Get device\n",
    "device = torch.device('cuda:0' if torch.cuda.is_available() else 'cpu')\n",
    "# Print Device Type\n",
    "if torch.cuda.is_available():\n",
    "    print(f\"Program running on {torch.cuda.get_device_name(device)}\")\n",
    "else:\n",
    "    print(\"Program running on CPU\")\n",
    "    \n",
    "# Create folder if it does not exists\n",
    "makedirs(save_root, exist_ok=True)"
   ]
  },
  {
   "cell_type": "markdown",
   "id": "0ed7fa78",
   "metadata": {},
   "source": [
    "# BarlowTwins"
   ]
  },
  {
   "cell_type": "code",
   "execution_count": 2,
   "id": "04393c2c",
   "metadata": {},
   "outputs": [
    {
     "name": "stdout",
     "output_type": "stream",
     "text": [
      "Pretrained model available, use it?[y/n]: n\n"
     ]
    },
    {
     "name": "stderr",
     "output_type": "stream",
     "text": [
      "/home/fcfschulz/miniconda3/envs/pg_high/lib/python3.8/site-packages/torch/nn/functional.py:718: UserWarning: Named tensors and all their associated APIs are an experimental feature and subject to change. Please do not use them for anything important until they are released as stable. (Triggered internally at  /pytorch/c10/core/TensorImpl.h:1156.)\n",
      "  return torch.max_pool2d(input, kernel_size, stride, padding, dilation, ceil_mode)\n"
     ]
    },
    {
     "name": "stdout",
     "output_type": "stream",
     "text": [
      "Epoch: 0, Loss: 1397.6592149242913, Time epoch: 72.78435158729553\n",
      "Epoch: 1, Loss: 1211.319455490899, Time epoch: 70.08806228637695\n",
      "Epoch: 2, Loss: 1112.6538815842462, Time epoch: 69.86186289787292\n",
      "Epoch: 3, Loss: 1021.7876291176708, Time epoch: 70.06160426139832\n",
      "Epoch: 4, Loss: 985.051998806983, Time epoch: 69.68298411369324\n",
      "Epoch: 5, Loss: 974.7971474559037, Time epoch: 70.09600067138672\n",
      "Epoch: 6, Loss: 958.012158580662, Time epoch: 69.36627459526062\n",
      "Epoch: 7, Loss: 932.162353515625, Time epoch: 69.64225339889526\n",
      "Epoch: 8, Loss: 877.0895561926144, Time epoch: 69.30090665817261\n",
      "Epoch: 9, Loss: 836.8962685496537, Time epoch: 69.4221875667572\n",
      "Accuracy after full Training: KNN:44.95, Linear: 50.78\n"
     ]
    }
   ],
   "source": [
    "# Define Model\n",
    "resnet = resnet18(zero_init_residual=True)\n",
    "\n",
    "barlow_twins = BarlowTwins(resnet, projector_hidden = (2048,2048,2048)).to(device)\n",
    "\n",
    "# Define Trainer\n",
    "cifar10_trainer = SSL_Trainer(barlow_twins, ssl_data, device)\n",
    "\n",
    "# Train\n",
    "cifar10_trainer.train(**train_params, optim_params=optim_params,\n",
    "                      scheduler_params=scheduler_params, eval_params=eval_params)"
   ]
  },
  {
   "cell_type": "code",
   "execution_count": 3,
   "id": "6d43ed0e",
   "metadata": {},
   "outputs": [
    {
     "data": {
      "image/png": "[encoded data removed]",
      "text/plain": [
       "<Figure size 432x288 with 1 Axes>"
      ]
     },
     "metadata": {
      "needs_background": "light"
     },
     "output_type": "display_data"
    }
   ],
   "source": [
    "import matplotlib.pyplot as plt\n",
    "\n",
    "plt.plot(cifar10_trainer._hist_lr);"
   ]
  },
  {
   "cell_type": "code",
   "execution_count": 4,
   "id": "7741c57a",
   "metadata": {},
   "outputs": [
    {
     "data": {
      "text/plain": [
       "485"
      ]
     },
     "execution_count": 4,
     "metadata": {},
     "output_type": "execute_result"
    }
   ],
   "source": [
    "(train_params['num_epochs']-train_params['warmup_epochs'])*len(ssl_data.train_dl)"
   ]
  },
  {
   "cell_type": "code",
   "execution_count": 5,
   "id": "30d3ef17",
   "metadata": {},
   "outputs": [
    {
     "data": {
      "text/plain": [
       "970"
      ]
     },
     "execution_count": 5,
     "metadata": {},
     "output_type": "execute_result"
    }
   ],
   "source": [
    "10*len(ssl_data.train_dl)"
   ]
  },
  {
   "cell_type": "code",
   "execution_count": null,
   "id": "22d4ba4d",
   "metadata": {},
   "outputs": [],
   "source": []
  }
 ],
 "metadata": {
  "kernelspec": {
   "display_name": "Python (pg_high)",
   "language": "python",
   "name": "pg_high"
  },
  "language_info": {
   "codemirror_mode": {
    "name": "ipython",
    "version": 3
   },
   "file_extension": ".py",
   "mimetype": "text/x-python",
   "name": "python",
   "nbconvert_exporter": "python",
   "pygments_lexer": "ipython3",
   "version": "3.8.12"
  }
 },
 "nbformat": 4,
 "nbformat_minor": 5
}
